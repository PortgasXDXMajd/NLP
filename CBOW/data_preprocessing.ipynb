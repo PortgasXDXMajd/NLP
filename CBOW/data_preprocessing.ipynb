{
 "cells": [
  {
   "cell_type": "markdown",
   "metadata": {},
   "source": [
    "# This is Data preprocessing\n"
   ]
  },
  {
   "cell_type": "code",
   "execution_count": 8,
   "metadata": {},
   "outputs": [
    {
     "name": "stderr",
     "output_type": "stream",
     "text": [
      "[nltk_data] Downloading package punkt to\n",
      "[nltk_data]     C:\\Users\\Acer\\AppData\\Roaming\\nltk_data...\n",
      "[nltk_data]   Package punkt is already up-to-date!\n"
     ]
    }
   ],
   "source": [
    "import re\n",
    "import nltk\n",
    "\n",
    "nltk.download('punkt')\n",
    "\n",
    "import emoji\n",
    "import numpy as np\n",
    "from nltk.tokenize import word_tokenize"
   ]
  },
  {
   "cell_type": "code",
   "execution_count": 40,
   "metadata": {},
   "outputs": [
    {
     "data": {
      "text/plain": [
       "'I am happy because I am learning'"
      ]
     },
     "execution_count": 40,
     "metadata": {},
     "output_type": "execute_result"
    }
   ],
   "source": [
    "corpus = 'I am happy because I am learning'\n",
    "corpus"
   ]
  },
  {
   "cell_type": "code",
   "execution_count": 41,
   "metadata": {},
   "outputs": [],
   "source": [
    "def tokenize(corpus):\n",
    "    data = re.sub(r'[,!?;-]+','.',corpus)\n",
    "    data = nltk.word_tokenize(data)\n",
    "    data = [ ch.lower() for ch in data\n",
    "             if ch.isalpha()\n",
    "             or ch == '.'\n",
    "           ]\n",
    "    return data"
   ]
  },
  {
   "cell_type": "code",
   "execution_count": 52,
   "metadata": {},
   "outputs": [
    {
     "name": "stdout",
     "output_type": "stream",
     "text": [
      "['i', 'am', 'happy', 'because', 'i', 'am', 'learning']\n"
     ]
    }
   ],
   "source": [
    "words = tokenize(corpus)\n",
    "print(words)"
   ]
  },
  {
   "cell_type": "code",
   "execution_count": 48,
   "metadata": {},
   "outputs": [],
   "source": [
    "def get_window(wordlist,C=2):\n",
    "    i = C\n",
    "    while i < len(wordlist) - C:\n",
    "        center_word = wordlist[i]\n",
    "        context_word = wordlist[i-C:i] + wordlist[i+1 : i+C+1]\n",
    "        yield center_word, context_word\n",
    "        i+=1\n"
   ]
  },
  {
   "cell_type": "code",
   "execution_count": 59,
   "metadata": {},
   "outputs": [
    {
     "name": "stdout",
     "output_type": "stream",
     "text": [
      "['i', 'am', 'happy', 'because', 'i', 'am', 'learning']\n",
      "center: happy \t\t context: ['i', 'am', 'because', 'i']\n",
      "center: because \t\t context: ['am', 'happy', 'i', 'am']\n",
      "center: i \t\t context: ['happy', 'because', 'am', 'learning']\n"
     ]
    }
   ],
   "source": [
    "print(words)\n",
    "for center_word, context_word in get_window(words):\n",
    "    print(f\"center: {center_word} \\t\\t context: {context_word}\")"
   ]
  },
  {
   "cell_type": "code",
   "execution_count": 77,
   "metadata": {},
   "outputs": [],
   "source": [
    "def get_dict(wordlist):\n",
    "    vocab = set(wordlist)\n",
    "    v = len(vocab)\n",
    "    vocab = sorted(vocab)\n",
    "    word2IncDic = dict()\n",
    "    Inc2WordDic = dict()\n",
    "    for w,i in zip(vocab, range(v)):\n",
    "        word2IncDic[w] = i\n",
    "        Inc2WordDic[i] = w\n",
    "    return word2IncDic,Inc2WordDic,v"
   ]
  },
  {
   "cell_type": "code",
   "execution_count": 79,
   "metadata": {},
   "outputs": [
    {
     "name": "stdout",
     "output_type": "stream",
     "text": [
      "{'am': 0, 'because': 1, 'happy': 2, 'i': 3, 'learning': 4}\n",
      "{0: 'am', 1: 'because', 2: 'happy', 3: 'i', 4: 'learning'}\n",
      "5\n"
     ]
    }
   ],
   "source": [
    "word2IncDic,Inc2WordDic,V = get_dict(words)\n",
    "print(word2IncDic)\n",
    "print(Inc2WordDic)\n",
    "print(V)"
   ]
  },
  {
   "cell_type": "code",
   "execution_count": 83,
   "metadata": {},
   "outputs": [],
   "source": [
    "def get_vector_center(word, word2IncDic, V):\n",
    "    vec = np.zeros(V)\n",
    "    vec[word2IncDic[word]] = 1\n",
    "    return vec;"
   ]
  },
  {
   "cell_type": "code",
   "execution_count": 84,
   "metadata": {},
   "outputs": [],
   "source": [
    "def get_vector_context(wordList, word2IncDic, V):\n",
    "    vec = [get_vector_center(w,word2IncDic,V) for w in wordList]\n",
    "    return np.mean(vec,axis=0);"
   ]
  },
  {
   "cell_type": "code",
   "execution_count": 86,
   "metadata": {},
   "outputs": [
    {
     "name": "stdout",
     "output_type": "stream",
     "text": [
      "[0. 0. 1. 0. 0.]\n",
      "[0.25 0.25 0.   0.5  0.  ]\n"
     ]
    }
   ],
   "source": [
    "vec_center = get_vector_center('happy',word2IncDic,V)\n",
    "vec_context = get_vector_context(['i','am','because','i'],word2IncDic,V)\n",
    "print(vec_center)\n",
    "print(vec_context)"
   ]
  },
  {
   "cell_type": "code",
   "execution_count": 87,
   "metadata": {},
   "outputs": [],
   "source": [
    "def get_all_training_data(corpus):\n",
    "    data = tokenize(corpus)\n",
    "    word2IncDic,_,V = get_dict(data)\n",
    "    for center_word, context_word in get_window(data):\n",
    "        vec_center = get_vector_center(center_word,word2IncDic,V)\n",
    "        vec_context = get_vector_context(context_word,word2IncDic,V)\n",
    "        yield vec_center, vec_context"
   ]
  },
  {
   "cell_type": "code",
   "execution_count": 88,
   "metadata": {},
   "outputs": [
    {
     "name": "stdout",
     "output_type": "stream",
     "text": [
      "center vector [0. 0. 1. 0. 0.]\n",
      "context vector [0.25 0.25 0.   0.5  0.  ]\n",
      "center vector [0. 1. 0. 0. 0.]\n",
      "context vector [0.5  0.   0.25 0.25 0.  ]\n",
      "center vector [0. 0. 0. 1. 0.]\n",
      "context vector [0.25 0.25 0.25 0.   0.25]\n"
     ]
    }
   ],
   "source": [
    "for x,y in get_all_training_data(corpus):\n",
    "    print(f'center vector {x}')\n",
    "    print(f'context vector {y}')"
   ]
  }
 ],
 "metadata": {
  "kernelspec": {
   "display_name": "Python 3",
   "language": "python",
   "name": "python3"
  },
  "language_info": {
   "codemirror_mode": {
    "name": "ipython",
    "version": 3
   },
   "file_extension": ".py",
   "mimetype": "text/x-python",
   "name": "python",
   "nbconvert_exporter": "python",
   "pygments_lexer": "ipython3",
   "version": "3.11.3"
  }
 },
 "nbformat": 4,
 "nbformat_minor": 2
}
